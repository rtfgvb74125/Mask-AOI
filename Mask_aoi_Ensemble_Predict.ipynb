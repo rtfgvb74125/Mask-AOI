{
 "cells": [
  {
   "cell_type": "code",
   "execution_count": 1,
   "metadata": {},
   "outputs": [],
   "source": [
    "import tensorflow as tf\n",
    "import numpy as np\n",
    "import pandas as pd\n",
    "import cv2\n",
    "import matplotlib.pyplot as plt\n",
    "import matplotlib.image as mpimg\n",
    "from sklearn.metrics import confusion_matrix\n",
    "import os\n",
    "from tensorflow.keras import utils\n",
    "\n",
    "# 進度條模組\n",
    "from tqdm import tqdm\n",
    "%matplotlib inline"
   ]
  },
  {
   "cell_type": "code",
   "execution_count": 2,
   "metadata": {},
   "outputs": [
    {
     "name": "stdout",
     "output_type": "stream",
     "text": [
      "WARNING:tensorflow:From <ipython-input-2-0f3f18d6550c>:3: is_gpu_available (from tensorflow.python.framework.test_util) is deprecated and will be removed in a future version.\n",
      "Instructions for updating:\n",
      "Use `tf.config.list_physical_devices('GPU')` instead.\n"
     ]
    },
    {
     "data": {
      "text/plain": [
       "True"
      ]
     },
     "execution_count": 2,
     "metadata": {},
     "output_type": "execute_result"
    }
   ],
   "source": [
    "#檢測tensorflow gpu是否啟用\n",
    "tf.config.list_physical_devices(\"GPU\")\n",
    "tf.test.is_gpu_available()"
   ]
  },
  {
   "cell_type": "code",
   "execution_count": 3,
   "metadata": {},
   "outputs": [],
   "source": [
    "from tensorflow.compat.v1 import ConfigProto\n",
    "from tensorflow.compat.v1 import InteractiveSession\n",
    "import os\n",
    "os.environ[\"CUDA_DEVICE_ORDER\"] = 'PCI_BUS_ID'\n",
    "os.environ['CUDA_VISIBLE_DEVICES'] = '0'#选择哪一块gpu\n",
    "config = ConfigProto()\n",
    "# config.allow_soft_placement=True #如果你指定的设备不存在，允许TF自动分配设备\n",
    "# config.gpu_options.per_process_gpu_memory_fraction=0.5 #分配百分之七十的显存给程序使用，避免内存溢出，可以自己调整\n",
    "config.gpu_options.allow_growth = True #按需分配显存，这个比较重要\n",
    "session = InteractiveSession(config=config)"
   ]
  },
  {
   "cell_type": "markdown",
   "metadata": {},
   "source": [
    "# Load Data"
   ]
  },
  {
   "cell_type": "code",
   "execution_count": 4,
   "metadata": {},
   "outputs": [
    {
     "name": "stdout",
     "output_type": "stream",
     "text": [
      "{'normal': 0, 'lint': 1, 'error_ear': 2, 'error_iron': 3, 'error_solder': 4, 'noearing': 5, 'noiron': 6, 'NG': 7}\n"
     ]
    }
   ],
   "source": [
    "# 8種類\n",
    "class_names = ['normal' , 'lint' , 'error_ear' , 'error_iron' , 'error_solder' , 'noearing' , 'noiron' , 'NG']\n",
    "\n",
    "class_names_label = {class_name:i for i,class_name in enumerate(class_names)}\n",
    "print(class_names_label)\n",
    "\n",
    "nb_classes = len(class_names)\n",
    "\n",
    "IMAGE_SIZE = (108 , 192)"
   ]
  },
  {
   "cell_type": "code",
   "execution_count": 5,
   "metadata": {},
   "outputs": [
    {
     "name": "stderr",
     "output_type": "stream",
     "text": [
      "  5%|███▉                                                                              | 5/104 [00:00<00:02, 43.44it/s]"
     ]
    },
    {
     "name": "stdout",
     "output_type": "stream",
     "text": [
      "LoadingE:/mask_data/insta/test\n"
     ]
    },
    {
     "name": "stderr",
     "output_type": "stream",
     "text": [
      "100%|████████████████████████████████████████████████████████████████████████████████| 104/104 [00:02<00:00, 44.61it/s]\n",
      "100%|████████████████████████████████████████████████████████████████████████████████| 150/150 [00:03<00:00, 44.39it/s]\n",
      "100%|████████████████████████████████████████████████████████████████████████████████| 104/104 [00:02<00:00, 44.23it/s]\n",
      "100%|██████████████████████████████████████████████████████████████████████████████████| 65/65 [00:01<00:00, 44.24it/s]\n",
      "100%|████████████████████████████████████████████████████████████████████████████████| 117/117 [00:02<00:00, 44.11it/s]\n",
      "100%|██████████████████████████████████████████████████████████████████████████████████| 73/73 [00:01<00:00, 44.83it/s]\n",
      "100%|██████████████████████████████████████████████████████████████████████████████████| 27/27 [00:00<00:00, 44.66it/s]\n",
      "100%|██████████████████████████████████████████████████████████████████████████████████| 83/83 [00:01<00:00, 44.72it/s]\n"
     ]
    }
   ],
   "source": [
    "datasets = ['E:/mask_data/insta/test']    \n",
    "for dataset in datasets:\n",
    "    images = []\n",
    "    labels = []\n",
    "        \n",
    "    print('Loading{}'.format(dataset))\n",
    "        \n",
    "    for folder in os.listdir(dataset):\n",
    "        label = class_names_label[folder]\n",
    "            \n",
    "        for file in tqdm(os.listdir(os.path.join(dataset , folder))):\n",
    "                \n",
    "            img_path = os.path.join(os.path.join(dataset , folder), file)\n",
    "            image = cv2.imread(img_path)\n",
    "            image = cv2.cvtColor(image , cv2.COLOR_BGR2GRAY)\n",
    "            image = cv2.resize(image , IMAGE_SIZE)\n",
    "            # 邊緣\n",
    "            sobelX = cv2.Sobel(image, cv2.CV_64F, 1, 0)\n",
    "            sobelY = cv2.Sobel(image, cv2.CV_64F, 0, 1)\n",
    "            sobelX = np.uint8(np.absolute(sobelX))\n",
    "            sobelY = np.uint8(np.absolute(sobelY))\n",
    "            sobelCombined = cv2.bitwise_or(sobelX, sobelY)\n",
    "            images.append(sobelCombined)\n",
    "\n",
    "#             images.append(image)\n",
    "            labels.append(label)\n",
    "                \n",
    "    images = np.array(images , dtype = 'float32')\n",
    "    labels = np.array(labels , dtype = 'int32')\n",
    "    labels = utils.to_categorical(labels , 8 , dtype = 'int32')"
   ]
  },
  {
   "cell_type": "code",
   "execution_count": 6,
   "metadata": {},
   "outputs": [
    {
     "name": "stdout",
     "output_type": "stream",
     "text": [
      "(723, 192, 108)\n",
      "(723, 8)\n"
     ]
    }
   ],
   "source": [
    "from tensorflow.keras import utils\n",
    "test_images = images\n",
    "test_labels = labels\n",
    "print(test_images.shape)\n",
    "print(test_labels.shape)"
   ]
  },
  {
   "cell_type": "code",
   "execution_count": 7,
   "metadata": {},
   "outputs": [],
   "source": [
    "from sklearn.utils import shuffle           \n",
    "\n",
    "test_images, test_labels = shuffle(test_images, test_labels, random_state = 25)"
   ]
  },
  {
   "cell_type": "code",
   "execution_count": 8,
   "metadata": {},
   "outputs": [
    {
     "name": "stdout",
     "output_type": "stream",
     "text": [
      "Number of testing example : 723\n",
      "Each image is of size : (108, 192)\n"
     ]
    }
   ],
   "source": [
    "# check how many training and testing example do we have\n",
    "# check the size of image\n",
    "n_test = test_labels.shape[0]\n",
    "\n",
    "print('Number of testing example : {}'.format(n_test))\n",
    "print('Each image is of size : {}'.format(IMAGE_SIZE))"
   ]
  },
  {
   "cell_type": "code",
   "execution_count": 9,
   "metadata": {},
   "outputs": [],
   "source": [
    "test_images = test_images / 255.0"
   ]
  },
  {
   "cell_type": "code",
   "execution_count": 10,
   "metadata": {},
   "outputs": [],
   "source": [
    "test_images = tf.expand_dims(test_images, axis=-1)"
   ]
  },
  {
   "cell_type": "markdown",
   "metadata": {},
   "source": [
    "# Load Model"
   ]
  },
  {
   "cell_type": "code",
   "execution_count": 11,
   "metadata": {},
   "outputs": [],
   "source": [
    "# Edge\n",
    "# ## B0~B7\n",
    "# model_file = ['Mask-Edge-EfficientNetB0.h5' , 'Mask-Edge-EfficientNetB1.h5' , 'Mask-Edge-EfficientNetB2.h5' , \n",
    "#               'Mask-Edge-EfficientNetB3.h5' , 'Mask-Edge-EfficientNetB4.h5' , 'Mask-Edge-EfficientNetB5.h5' , \n",
    "#               'Mask-Edge-EfficientNetB6.h5' , 'Mask-Edge-EfficientNetB7.h5']\n",
    "\n",
    "# ## B0 B1 B2 B4 B5 B6 B7\n",
    "# model_file = ['Mask-Edge-EfficientNetB0.h5' , 'Mask-Edge-EfficientNetB1.h5' , 'Mask-Edge-EfficientNetB2.h5' , \n",
    "#               'Mask-Edge-EfficientNetB4.h5' ,'Mask-Edge-EfficientNetB5.h5' , 'Mask-Edge-EfficientNetB6.h5' , \n",
    "#               'Mask-Edge-EfficientNetB7.h5']\n",
    "\n",
    "# ## B0 B2 B5 B6 B7\n",
    "# model_file = ['Mask-Edge-EfficientNetB0.h5' , 'Mask-Edge-EfficientNetB2.h5' , 'Mask-Edge-EfficientNetB5.h5' , \n",
    "#               'Mask-Edge-EfficientNetB6.h5' , 'Mask-Edge-EfficientNetB7.h5']\n",
    "\n",
    "## B0 B2 B6\n",
    "model_file = ['Mask-Edge-EfficientNetB0.h5' ,  'Mask-Edge-EfficientNetB2.h5' , 'Mask-Edge-EfficientNetB6.h5']\n",
    "\n",
    "\n",
    "# # No Edge\n",
    "# ## B0~B7\n",
    "# model_file = ['Mask-NOEdge-EfficientNetB0.h5' , 'Mask-NOEdge-EfficientNetB1.h5' , 'Mask-NOEdge-EfficientNetB2.h5' , \n",
    "#               'Mask-NOEdge-EfficientNetB3.h5' , 'Mask-NOEdge-EfficientNetB4.h5' , 'Mask-NOEdge-EfficientNetB5.h5' , \n",
    "#               'Mask-NOEdge-EfficientNetB6.h5' , 'Mask-NOEdge-EfficientNetB7.h5']\n",
    "\n",
    "# ## B0 B2 B3 B4 B5 B6 B7\n",
    "# model_file = ['Mask-NOEdge-EfficientNetB0.h5' , 'Mask-NOEdge-EfficientNetB2.h5' , 'Mask-NOEdge-EfficientNetB3.h5' , \n",
    "#               'Mask-NOEdge-EfficientNetB4.h5' , 'Mask-NOEdge-EfficientNetB5.h5' , 'Mask-NOEdge-EfficientNetB6.h5' , \n",
    "#               'Mask-NOEdge-EfficientNetB7.h5']\n",
    "\n",
    "# ## B0 B4 B5 B6 B7\n",
    "# model_file = ['Mask-NOEdge-EfficientNetB0.h5' , 'Mask-NOEdge-EfficientNetB4.h5' , 'Mask-NOEdge-EfficientNetB5.h5' , \n",
    "#               'Mask-NOEdge-EfficientNetB6.h5' , 'Mask-NOEdge-EfficientNetB7.h5']\n",
    "\n",
    "# # B4 B5 B6\n",
    "# model_file = ['Mask-NOEdge-EfficientNetB4.h5' , 'Mask-NOEdge-EfficientNetB5.h5' , 'Mask-NOEdge-EfficientNetB6.h5' ]"
   ]
  },
  {
   "cell_type": "code",
   "execution_count": 12,
   "metadata": {},
   "outputs": [],
   "source": [
    "# model = tf.keras.models.load_model('best model/Edge/'+'Mask-Edge-EfficientNetB0.h5')\n",
    "# model.name"
   ]
  },
  {
   "cell_type": "code",
   "execution_count": 13,
   "metadata": {},
   "outputs": [],
   "source": [
    "models = []\n",
    "for model in model_file:\n",
    "    model = tf.keras.models.load_model('best model/Edge/'+model)\n",
    "    models.append(model)\n",
    "    \n",
    "# for model in model_file:\n",
    "#     model = tf.keras.models.load_model('best model/NoEdge/'+model)\n",
    "#     models.append(model)"
   ]
  },
  {
   "cell_type": "markdown",
   "metadata": {},
   "source": [
    "# check model"
   ]
  },
  {
   "cell_type": "code",
   "execution_count": 14,
   "metadata": {},
   "outputs": [
    {
     "name": "stdout",
     "output_type": "stream",
     "text": [
      "EfficientNetB0-Edge\n",
      "EfficientNetB2-Edge\n",
      "EfficientNetB6-Edge\n"
     ]
    }
   ],
   "source": [
    "for model in models:\n",
    "    print(model.name)"
   ]
  },
  {
   "cell_type": "markdown",
   "metadata": {},
   "source": [
    "# Evaluation data"
   ]
  },
  {
   "cell_type": "code",
   "execution_count": 15,
   "metadata": {},
   "outputs": [
    {
     "name": "stdout",
     "output_type": "stream",
     "text": [
      "6/6 [==============================] - 5s 265ms/step - loss: 0.7024 - accuracy: 0.9212\n",
      "6/6 [==============================] - 4s 298ms/step - loss: 0.6910 - accuracy: 0.9184\n",
      "6/6 [==============================] - 8s 672ms/step - loss: 0.5986 - accuracy: 0.9225\n"
     ]
    }
   ],
   "source": [
    "for model in models:\n",
    "    model.evaluate(test_images, test_labels, batch_size=128)"
   ]
  },
  {
   "cell_type": "markdown",
   "metadata": {},
   "source": [
    "# Predict data"
   ]
  },
  {
   "cell_type": "code",
   "execution_count": 16,
   "metadata": {},
   "outputs": [
    {
     "data": {
      "text/plain": [
       "array([1, 3, 0, 7, 7, 3, 4, 0, 7, 7, 7, 5, 0, 3, 1, 3, 2, 2, 4, 0, 2, 7,\n",
       "       7, 2, 7, 7, 4, 7, 3, 2, 3, 0, 3, 3, 5, 7, 2, 3, 3, 7, 0, 4, 0, 3,\n",
       "       2, 0, 2, 1, 7, 7, 3, 1, 4, 7, 4, 7, 4, 0, 2, 7, 4, 5, 7, 3, 7, 2,\n",
       "       5, 1, 5, 0, 1, 5, 1, 3, 0, 2, 7, 3, 5, 0, 0, 0, 3, 5, 3, 0, 0, 7,\n",
       "       0, 3, 2, 6, 5, 6, 0, 4, 0, 3, 6, 2, 2, 4, 7, 3, 3, 2, 4, 4, 2, 4,\n",
       "       6, 2, 3, 3, 4, 4, 7, 7, 3, 2, 0, 3, 7, 0, 3, 3, 3, 4, 2, 0, 7, 1,\n",
       "       2, 7, 6, 3, 3, 5, 7, 1, 3, 4, 2, 4, 3, 3, 5, 5, 3, 3, 3, 2, 0, 7,\n",
       "       3, 1, 4, 1, 0, 4, 2, 4, 5, 7, 4, 6, 7, 1, 4, 4, 7, 5, 2, 3, 3, 3,\n",
       "       4, 5, 4, 1, 5, 3, 3, 1, 3, 5, 1, 7, 0, 6, 3, 3, 0, 2, 1, 5, 2, 6,\n",
       "       5, 1, 0, 3, 5, 0, 3, 4, 5, 0, 7, 7, 4, 3, 2, 3, 1, 3, 3, 3, 7, 0,\n",
       "       4, 4, 5, 7, 3, 4, 5, 4, 4, 3, 7, 1, 7, 1, 2, 7, 2, 7, 7, 4, 7, 3,\n",
       "       2, 4, 3, 4, 1, 0, 2, 2, 2, 2, 1, 3, 2, 3, 5, 0, 3, 1, 7, 2, 4, 3,\n",
       "       1, 1, 7, 6, 4, 3, 5, 4, 2, 0, 2, 7, 4, 5, 7, 4, 7, 7, 3, 6, 0, 3,\n",
       "       0, 3, 7, 1, 2, 0, 3, 4, 2, 2, 5, 2, 1, 3, 6, 7, 4, 2, 1, 2, 0, 0,\n",
       "       7, 3, 5, 3, 0, 2, 1, 2, 7, 3, 2, 5, 4, 1, 5, 4, 3, 4, 5, 1, 7, 7,\n",
       "       1, 0, 2, 5, 3, 4, 4, 4, 0, 7, 1, 0, 3, 7, 4, 1, 5, 3, 3, 2, 2, 0,\n",
       "       2, 0, 5, 1, 4, 1, 7, 3, 4, 5, 6, 3, 4, 0, 0, 6, 3, 4, 3, 7, 4, 3,\n",
       "       0, 5, 3, 2, 4, 3, 4, 4, 3, 2, 3, 4, 2, 3, 2, 5, 0, 4, 5, 0, 3, 3,\n",
       "       5, 7, 4, 6, 5, 2, 5, 5, 1, 7, 1, 3, 1, 1, 6, 3, 7, 1, 2, 4, 7, 6,\n",
       "       7, 1, 5, 5, 0, 4, 7, 5, 7, 4, 3, 0, 3, 5, 2, 5, 3, 3, 2, 0, 2, 2,\n",
       "       7, 2, 0, 7, 1, 2, 2, 7, 0, 2, 3, 7, 4, 3, 5, 4, 3, 1, 2, 6, 5, 2,\n",
       "       3, 1, 1, 3, 7, 0, 5, 3, 0, 2, 6, 5, 3, 4, 2, 3, 2, 1, 2, 3, 5, 5,\n",
       "       0, 7, 2, 7, 7, 7, 7, 3, 1, 2, 7, 3, 7, 7, 2, 3, 3, 0, 7, 4, 1, 1,\n",
       "       1, 4, 4, 7, 4, 3, 7, 3, 3, 4, 0, 4, 0, 4, 7, 5, 5, 2, 2, 0, 3, 6,\n",
       "       7, 4, 7, 7, 3, 1, 5, 2, 5, 7, 6, 0, 2, 7, 6, 4, 5, 3, 7, 5, 2, 5,\n",
       "       5, 2, 0, 0, 3, 7, 2, 3, 3, 4, 7, 3, 7, 0, 4, 3, 7, 4, 7, 3, 7, 4,\n",
       "       4, 2, 0, 2, 3, 7, 3, 0, 5, 4, 0, 4, 1, 4, 3, 2, 1, 1, 0, 2, 1, 2,\n",
       "       3, 7, 6, 0, 2, 0, 3, 5, 3, 3, 0, 2, 1, 6, 6, 2, 2, 2, 7, 7, 1, 4,\n",
       "       7, 4, 3, 1, 2, 4, 4, 5, 0, 3, 4, 1, 3, 2, 4, 7, 7, 7, 0, 3, 4, 5,\n",
       "       1, 2, 3, 7, 3, 3, 6, 7, 7, 0, 2, 7, 3, 1, 7, 4, 2, 0, 2, 2, 5, 2,\n",
       "       3, 3, 5, 4, 2, 7, 0, 4, 5, 4, 6, 7, 2, 0, 3, 5, 3, 7, 4, 2, 7, 2,\n",
       "       4, 3, 6, 0, 3, 1, 4, 5, 1, 7, 3, 4, 0, 3, 0, 5, 5, 3, 7, 0, 3, 5,\n",
       "       4, 1, 3, 4, 2, 3, 0, 7, 7, 3, 3, 3, 3, 4, 4, 3, 7, 4, 3],\n",
       "      dtype=int64)"
      ]
     },
     "execution_count": 16,
     "metadata": {},
     "output_type": "execute_result"
    }
   ],
   "source": [
    "labels = np.argmax(test_labels, axis = 1) \n",
    "labels"
   ]
  },
  {
   "cell_type": "code",
   "execution_count": 17,
   "metadata": {},
   "outputs": [],
   "source": [
    "y_predictions_All = []\n",
    "for model in models:\n",
    "    y_predictions = model.predict(test_images)\n",
    "    y_predictions_All.append(y_predictions)"
   ]
  },
  {
   "cell_type": "code",
   "execution_count": 18,
   "metadata": {},
   "outputs": [
    {
     "data": {
      "text/plain": [
       "(723, 8)"
      ]
     },
     "execution_count": 18,
     "metadata": {},
     "output_type": "execute_result"
    }
   ],
   "source": [
    "y_predictions_ensemble = y_predictions_All[0]+y_predictions_All[1]+y_predictions_All[2]\n",
    "y_predictions_ensemble.shape"
   ]
  },
  {
   "cell_type": "code",
   "execution_count": 19,
   "metadata": {},
   "outputs": [],
   "source": [
    "predicts_ensemble=np.argmax(y_predictions_ensemble,axis=1)"
   ]
  },
  {
   "cell_type": "markdown",
   "metadata": {},
   "source": [
    "# confusion_matrix"
   ]
  },
  {
   "cell_type": "code",
   "execution_count": 20,
   "metadata": {},
   "outputs": [
    {
     "data": {
      "image/png": "[encoded data removed]",
      "text/plain": [
       "<Figure size 432x288 with 2 Axes>"
      ]
     },
     "metadata": {
      "needs_background": "light"
     },
     "output_type": "display_data"
    }
   ],
   "source": [
    "import matplotlib.pyplot as plt\n",
    "from sklearn.metrics import confusion_matrix\n",
    "import itertools\n",
    "def plot_confusion_matrix(cm, classes,\n",
    "                          normalize=False,\n",
    "                          cmap=plt.cm.Oranges):\n",
    "    \"\"\"\n",
    "    This function prints and plots the confusion matrix.\n",
    "    Normalization can be applied by setting `normalize=True`.\n",
    "    \"\"\"\n",
    "    title='Mask-EnsemblaEdgeB0 B2 B6 confusion matrix'\n",
    "    \n",
    "    plt.imshow(cm, interpolation='nearest', cmap=cmap)\n",
    "    plt.title(title)\n",
    "    plt.colorbar()\n",
    "    tick_marks = np.arange(len(classes))\n",
    "    plt.xticks(tick_marks, classes, rotation=45)\n",
    "    plt.yticks(tick_marks, classes)\n",
    "\n",
    "    if normalize:\n",
    "        cm = cm.astype('float') / cm.sum(axis=1)[:, np.newaxis]\n",
    "\n",
    "    thresh = cm.max() / 2.\n",
    "    for i, j in itertools.product(range(cm.shape[0]), range(cm.shape[1])):\n",
    "        plt.text(j, i, cm[i, j],\n",
    "                 horizontalalignment=\"center\",\n",
    "                 color=\"white\" if cm[i, j] > thresh else \"black\")\n",
    "\n",
    "    plt.tight_layout()\n",
    "    plt.ylabel('True label')\n",
    "    plt.xlabel('Predicted label')\n",
    "#     plt.savefig('E://Mask_confusion//Mask-EnsemblaNoEdgeB4 B5 B6.jpg')\n",
    "    plt.show()\n",
    "\n",
    "\n",
    "confusion_mtx = confusion_matrix(labels, predicts_ensemble)\n",
    "plot_confusion_matrix(confusion_mtx, classes = range(8))"
   ]
  },
  {
   "cell_type": "code",
   "execution_count": 21,
   "metadata": {},
   "outputs": [
    {
     "name": "stdout",
     "output_type": "stream",
     "text": [
      "Accuracy : 0.9336099585062241\n"
     ]
    }
   ],
   "source": [
    "from sklearn.metrics import accuracy_score\n",
    "print(\"Accuracy : {}\".format(accuracy_score(labels, predicts_ensemble)))"
   ]
  },
  {
   "cell_type": "code",
   "execution_count": null,
   "metadata": {},
   "outputs": [],
   "source": []
  }
 ],
 "metadata": {
  "kernelspec": {
   "display_name": "Python 3",
   "language": "python",
   "name": "python3"
  },
  "language_info": {
   "codemirror_mode": {
    "name": "ipython",
    "version": 3
   },
   "file_extension": ".py",
   "mimetype": "text/x-python",
   "name": "python",
   "nbconvert_exporter": "python",
   "pygments_lexer": "ipython3",
   "version": "3.8.3"
  }
 },
 "nbformat": 4,
 "nbformat_minor": 4
}
