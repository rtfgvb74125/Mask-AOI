{
 "cells": [
  {
   "cell_type": "code",
   "execution_count": null,
   "metadata": {},
   "outputs": [],
   "source": [
    "import os"
   ]
  },
  {
   "cell_type": "code",
   "execution_count": null,
   "metadata": {},
   "outputs": [],
   "source": [
    "# 路徑\n",
    "label_list = ['error_ear' , 'error_iron' , 'error_solder' , 'lint' , 'NG' , 'noearing' , 'noiron' , 'normal']\n",
    "path = 'E:\\\\mask_data\\\\insta\\\\validation\\\\normal\\\\' #不能拿掉最後這個斜線喔\n",
    "out_path = 'E:\\\\mask_data\\\\test'\n",
    "file_list = os.listdir(path)\n",
    "# for i in label_list:\n",
    "#     print(path+i+'\\\\')"
   ]
  },
  {
   "cell_type": "code",
   "execution_count": null,
   "metadata": {},
   "outputs": [],
   "source": [
    "i = 0\n",
    "for file in file_list:\n",
    "    name = file.split('.')\n",
    "    if name[1] == 'jpg' or name[1] == 'png': #根據檔案格式自動變換\n",
    "        os.rename (path+file,path+'normal_%d'%i+'.'+name[1])\n",
    "        print(file+'=>'+'error_ear_%d'%i+'.'+name[1])\n",
    "        i=i+1"
   ]
  },
  {
   "cell_type": "code",
   "execution_count": null,
   "metadata": {},
   "outputs": [],
   "source": []
  }
 ],
 "metadata": {
  "kernelspec": {
   "display_name": "Python 3",
   "language": "python",
   "name": "python3"
  },
  "language_info": {
   "codemirror_mode": {
    "name": "ipython",
    "version": 3
   },
   "file_extension": ".py",
   "mimetype": "text/x-python",
   "name": "python",
   "nbconvert_exporter": "python",
   "pygments_lexer": "ipython3",
   "version": "3.8.3"
  }
 },
 "nbformat": 4,
 "nbformat_minor": 5
}
